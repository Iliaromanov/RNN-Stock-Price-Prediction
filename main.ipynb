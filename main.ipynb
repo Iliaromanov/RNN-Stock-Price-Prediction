{
 "cells": [
  {
   "cell_type": "code",
   "execution_count": 1,
   "source": [
    "import numpy as np\r\n",
    "import matplotlib.pyplot as plt\r\n",
    "import pandas as pd\r\n",
    "import pandas_datareader as pdr\r\n",
    "from datetime import datetime as dt\r\n",
    "\r\n",
    "import tensorflow as tf\r\n",
    "from tensorflow.keras import layers\r\n",
    "from sklearn.preprocessing import MinMaxScaler\r\n",
    "\r\n",
    "%matplotlib inline"
   ],
   "outputs": [],
   "metadata": {}
  },
  {
   "cell_type": "code",
   "execution_count": 2,
   "source": [
    "# Load data for specific company\r\n",
    "company = 'FB'  # using facebook as an example\r\n",
    "\r\n",
    "start = dt(2012, 1, 1)\r\n",
    "end = dt(2020, 8, 1)\r\n",
    "\r\n",
    "training_data = pdr.DataReader(company, 'yahoo', start, end)\r\n",
    "validation_data = pdr.DataReader(company, 'yahoo', end, dt(dt.now().year, dt.now().month, dt.now().day))"
   ],
   "outputs": [],
   "metadata": {
    "collapsed": false,
    "pycharm": {
     "name": "#%%\n"
    }
   }
  },
  {
   "cell_type": "code",
   "execution_count": 3,
   "source": [
    "training_data.head()  # we want to predict the values in the Close column, based on preceding Close column entries"
   ],
   "outputs": [
    {
     "output_type": "execute_result",
     "data": {
      "text/plain": [
       "                 High        Low       Open      Close     Volume  Adj Close\n",
       "Date                                                                        \n",
       "2012-05-18  45.000000  38.000000  42.049999  38.230000  573576400  38.230000\n",
       "2012-05-21  36.660000  33.000000  36.529999  34.029999  168192700  34.029999\n",
       "2012-05-22  33.590000  30.940001  32.610001  31.000000  101786600  31.000000\n",
       "2012-05-23  32.500000  31.360001  31.370001  32.000000   73600000  32.000000\n",
       "2012-05-24  33.209999  31.770000  32.950001  33.029999   50237200  33.029999"
      ],
      "text/html": [
       "<div>\n",
       "<style scoped>\n",
       "    .dataframe tbody tr th:only-of-type {\n",
       "        vertical-align: middle;\n",
       "    }\n",
       "\n",
       "    .dataframe tbody tr th {\n",
       "        vertical-align: top;\n",
       "    }\n",
       "\n",
       "    .dataframe thead th {\n",
       "        text-align: right;\n",
       "    }\n",
       "</style>\n",
       "<table border=\"1\" class=\"dataframe\">\n",
       "  <thead>\n",
       "    <tr style=\"text-align: right;\">\n",
       "      <th></th>\n",
       "      <th>High</th>\n",
       "      <th>Low</th>\n",
       "      <th>Open</th>\n",
       "      <th>Close</th>\n",
       "      <th>Volume</th>\n",
       "      <th>Adj Close</th>\n",
       "    </tr>\n",
       "    <tr>\n",
       "      <th>Date</th>\n",
       "      <th></th>\n",
       "      <th></th>\n",
       "      <th></th>\n",
       "      <th></th>\n",
       "      <th></th>\n",
       "      <th></th>\n",
       "    </tr>\n",
       "  </thead>\n",
       "  <tbody>\n",
       "    <tr>\n",
       "      <th>2012-05-18</th>\n",
       "      <td>45.000000</td>\n",
       "      <td>38.000000</td>\n",
       "      <td>42.049999</td>\n",
       "      <td>38.230000</td>\n",
       "      <td>573576400</td>\n",
       "      <td>38.230000</td>\n",
       "    </tr>\n",
       "    <tr>\n",
       "      <th>2012-05-21</th>\n",
       "      <td>36.660000</td>\n",
       "      <td>33.000000</td>\n",
       "      <td>36.529999</td>\n",
       "      <td>34.029999</td>\n",
       "      <td>168192700</td>\n",
       "      <td>34.029999</td>\n",
       "    </tr>\n",
       "    <tr>\n",
       "      <th>2012-05-22</th>\n",
       "      <td>33.590000</td>\n",
       "      <td>30.940001</td>\n",
       "      <td>32.610001</td>\n",
       "      <td>31.000000</td>\n",
       "      <td>101786600</td>\n",
       "      <td>31.000000</td>\n",
       "    </tr>\n",
       "    <tr>\n",
       "      <th>2012-05-23</th>\n",
       "      <td>32.500000</td>\n",
       "      <td>31.360001</td>\n",
       "      <td>31.370001</td>\n",
       "      <td>32.000000</td>\n",
       "      <td>73600000</td>\n",
       "      <td>32.000000</td>\n",
       "    </tr>\n",
       "    <tr>\n",
       "      <th>2012-05-24</th>\n",
       "      <td>33.209999</td>\n",
       "      <td>31.770000</td>\n",
       "      <td>32.950001</td>\n",
       "      <td>33.029999</td>\n",
       "      <td>50237200</td>\n",
       "      <td>33.029999</td>\n",
       "    </tr>\n",
       "  </tbody>\n",
       "</table>\n",
       "</div>"
      ]
     },
     "metadata": {},
     "execution_count": 3
    }
   ],
   "metadata": {}
  },
  {
   "cell_type": "code",
   "execution_count": 4,
   "source": [
    "# Scale data to range between [0,1]\r\n",
    "scaler = MinMaxScaler(feature_range=(0,1))\r\n",
    "scaled_data = scaler.fit_transform(training_data['Close'].values.reshape(-1,1))  # before scaling, reshape the closing values array into a single column vector"
   ],
   "outputs": [],
   "metadata": {}
  },
  {
   "cell_type": "code",
   "execution_count": 5,
   "source": [
    "prediction_days = 60  # number of days of data to use for making prediction\r\n",
    "\r\n",
    "X, Y = [], []\r\n",
    "\r\n",
    "for x in range(prediction_days, len(scaled_data)):\r\n",
    "    X.append(scaled_data[x - prediction_days:x])  # prediction_days values before x is the input \r\n",
    "    Y.append(scaled_data[x, 0])  # the single value after prediction_days values, x, is the output (,0 is to flatten)\r\n",
    "\r\n",
    "# Convert to numpy arrays\r\n",
    "X, Y = np.array(X), np.array(Y)"
   ],
   "outputs": [],
   "metadata": {}
  },
  {
   "cell_type": "code",
   "execution_count": 6,
   "source": [
    "print(X.shape, Y.shape)"
   ],
   "outputs": [
    {
     "output_type": "stream",
     "name": "stdout",
     "text": [
      "(2004, 60, 1) (2004,)\n"
     ]
    }
   ],
   "metadata": {}
  },
  {
   "cell_type": "code",
   "execution_count": 7,
   "source": [
    "# Save the last 100 data pairs for validation\r\n",
    "x_train, y_train, x_valid, y_valid = X[:X.shape[0]-100], Y[:Y.shape[0]-100], X[X.shape[0]-100:], Y[Y.shape[0]-100:]"
   ],
   "outputs": [],
   "metadata": {}
  },
  {
   "cell_type": "code",
   "execution_count": 8,
   "source": [
    "print(x_train[0])\r\n",
    "print(\"-----------\")\r\n",
    "print(y_train[0])"
   ],
   "outputs": [
    {
     "output_type": "stream",
     "name": "stdout",
     "text": [
      "[[0.0868865 ]\n",
      " [0.06908536]\n",
      " [0.05624311]\n",
      " [0.06048148]\n",
      " [0.06484699]\n",
      " [0.06010003]\n",
      " [0.04708825]\n",
      " [0.04433331]\n",
      " [0.0503094 ]\n",
      " [0.04234127]\n",
      " [0.03886581]\n",
      " [0.0345003 ]\n",
      " [0.03848436]\n",
      " [0.03636518]\n",
      " [0.03971349]\n",
      " [0.03933204]\n",
      " [0.040985  ]\n",
      " [0.04043401]\n",
      " [0.04475715]\n",
      " [0.05204713]\n",
      " [0.05798084]\n",
      " [0.06010003]\n",
      " [0.05878614]\n",
      " [0.05980334]\n",
      " [0.06493176]\n",
      " [0.06073579]\n",
      " [0.06514368]\n",
      " [0.0614563 ]\n",
      " [0.05776893]\n",
      " [0.05666695]\n",
      " [0.05526829]\n",
      " [0.05709079]\n",
      " [0.05823514]\n",
      " [0.05933712]\n",
      " [0.061202  ]\n",
      " [0.05823514]\n",
      " [0.05611596]\n",
      " [0.05543782]\n",
      " [0.05505637]\n",
      " [0.04458761]\n",
      " [0.04390947]\n",
      " [0.04823261]\n",
      " [0.04776638]\n",
      " [0.04674918]\n",
      " [0.04670679]\n",
      " [0.04543529]\n",
      " [0.04920743]\n",
      " [0.0386539 ]\n",
      " [0.02534543]\n",
      " [0.02297194]\n",
      " [0.01686869]\n",
      " [0.01335085]\n",
      " [0.00979063]\n",
      " [0.01424091]\n",
      " [0.01775875]\n",
      " [0.01267271]\n",
      " [0.01267271]\n",
      " [0.01390184]\n",
      " [0.01729253]\n",
      " [0.01640248]]\n",
      "-----------\n",
      "0.011231667516973048\n"
     ]
    }
   ],
   "metadata": {}
  },
  {
   "cell_type": "code",
   "execution_count": 9,
   "source": [
    "# Building the RNN model\r\n",
    "model = tf.keras.Sequential([\r\n",
    "    layers.LSTM(50, return_sequences=True, input_shape=(x_train.shape[1], 1)), # return_sequences determines if output is flat or is a sequence\r\n",
    "    layers.Dropout(0.2),\r\n",
    "    layers.LSTM(50, return_sequences=True),\r\n",
    "    layers.Dropout(0.2),\r\n",
    "    layers.LSTM(50, return_sequences=True),\r\n",
    "    layers.Dropout(0.2),\r\n",
    "\r\n",
    "    layers.Dense(25),\r\n",
    "    layers.Dense(1)  # predicition layer\r\n",
    "])"
   ],
   "outputs": [],
   "metadata": {}
  },
  {
   "cell_type": "code",
   "execution_count": 10,
   "source": [
    "# opt = keras.optimizers.Adam(lr=1e-3, decay=1e-5)\r\n",
    "model.compile(\r\n",
    "    optimizer='adam',\r\n",
    "    loss='mean_squared_error',\r\n",
    "    metrics=['mean_absolute_error']\r\n",
    ")"
   ],
   "outputs": [],
   "metadata": {}
  },
  {
   "cell_type": "code",
   "execution_count": 11,
   "source": [
    "from tensorflow.keras.callbacks import EarlyStopping\r\n",
    "\r\n",
    "early_stopping = EarlyStopping(\r\n",
    "    monitor='val_mean_absolute_error',\r\n",
    "    min_delta=0.001,\r\n",
    "    verbose=1,\r\n",
    "    patience=25,\r\n",
    "    restore_best_weights=True\r\n",
    ")"
   ],
   "outputs": [],
   "metadata": {}
  },
  {
   "cell_type": "code",
   "execution_count": 12,
   "source": [
    "history = model.fit(\r\n",
    "    x_train, y_train,\r\n",
    "    validation_data=(x_train, y_train),\r\n",
    "    epochs=100,\r\n",
    "    batch_size=32,\r\n",
    "    callbacks=[early_stopping]\r\n",
    ")"
   ],
   "outputs": [
    {
     "output_type": "stream",
     "name": "stdout",
     "text": [
      "Epoch 1/100\n",
      "60/60 [==============================] - 8s 69ms/step - loss: 0.0675 - mean_absolute_error: 0.1845 - val_loss: 0.0092 - val_mean_absolute_error: 0.0551\n",
      "Epoch 2/100\n",
      "60/60 [==============================] - 3s 49ms/step - loss: 0.0096 - mean_absolute_error: 0.0628 - val_loss: 0.0065 - val_mean_absolute_error: 0.0486\n",
      "Epoch 3/100\n",
      "60/60 [==============================] - 3s 49ms/step - loss: 0.0073 - mean_absolute_error: 0.0558 - val_loss: 0.0058 - val_mean_absolute_error: 0.0499\n",
      "Epoch 4/100\n",
      "60/60 [==============================] - 3s 51ms/step - loss: 0.0065 - mean_absolute_error: 0.0541 - val_loss: 0.0053 - val_mean_absolute_error: 0.0476\n",
      "Epoch 5/100\n",
      "60/60 [==============================] - 3s 51ms/step - loss: 0.0059 - mean_absolute_error: 0.0523 - val_loss: 0.0050 - val_mean_absolute_error: 0.0470\n",
      "Epoch 6/100\n",
      "60/60 [==============================] - 5s 85ms/step - loss: 0.0053 - mean_absolute_error: 0.0493 - val_loss: 0.0042 - val_mean_absolute_error: 0.0426\n",
      "Epoch 7/100\n",
      "60/60 [==============================] - 6s 96ms/step - loss: 0.0044 - mean_absolute_error: 0.0448 - val_loss: 0.0039 - val_mean_absolute_error: 0.0421\n",
      "Epoch 8/100\n",
      "60/60 [==============================] - 5s 78ms/step - loss: 0.0044 - mean_absolute_error: 0.0457 - val_loss: 0.0035 - val_mean_absolute_error: 0.0382\n",
      "Epoch 9/100\n",
      "60/60 [==============================] - 4s 69ms/step - loss: 0.0039 - mean_absolute_error: 0.0432 - val_loss: 0.0033 - val_mean_absolute_error: 0.0372\n",
      "Epoch 10/100\n",
      "60/60 [==============================] - 4s 70ms/step - loss: 0.0040 - mean_absolute_error: 0.0437 - val_loss: 0.0038 - val_mean_absolute_error: 0.0427\n",
      "Epoch 11/100\n",
      "60/60 [==============================] - 4s 63ms/step - loss: 0.0040 - mean_absolute_error: 0.0448 - val_loss: 0.0029 - val_mean_absolute_error: 0.0361\n",
      "Epoch 12/100\n",
      "60/60 [==============================] - 5s 79ms/step - loss: 0.0036 - mean_absolute_error: 0.0425 - val_loss: 0.0037 - val_mean_absolute_error: 0.0430\n",
      "Epoch 13/100\n",
      "60/60 [==============================] - 4s 65ms/step - loss: 0.0038 - mean_absolute_error: 0.0442 - val_loss: 0.0027 - val_mean_absolute_error: 0.0357\n",
      "Epoch 14/100\n",
      "60/60 [==============================] - 5s 86ms/step - loss: 0.0034 - mean_absolute_error: 0.0417 - val_loss: 0.0027 - val_mean_absolute_error: 0.0370\n",
      "Epoch 15/100\n",
      "60/60 [==============================] - 5s 77ms/step - loss: 0.0033 - mean_absolute_error: 0.0415 - val_loss: 0.0029 - val_mean_absolute_error: 0.0380\n",
      "Epoch 16/100\n",
      "60/60 [==============================] - 4s 71ms/step - loss: 0.0032 - mean_absolute_error: 0.0411 - val_loss: 0.0028 - val_mean_absolute_error: 0.0382\n",
      "Epoch 17/100\n",
      "60/60 [==============================] - 4s 71ms/step - loss: 0.0031 - mean_absolute_error: 0.0407 - val_loss: 0.0024 - val_mean_absolute_error: 0.0349\n",
      "Epoch 18/100\n",
      "60/60 [==============================] - 4s 71ms/step - loss: 0.0029 - mean_absolute_error: 0.0389 - val_loss: 0.0023 - val_mean_absolute_error: 0.0338\n",
      "Epoch 19/100\n",
      "60/60 [==============================] - 4s 67ms/step - loss: 0.0030 - mean_absolute_error: 0.0397 - val_loss: 0.0023 - val_mean_absolute_error: 0.0339\n",
      "Epoch 20/100\n",
      "60/60 [==============================] - 4s 73ms/step - loss: 0.0029 - mean_absolute_error: 0.0399 - val_loss: 0.0022 - val_mean_absolute_error: 0.0334\n",
      "Epoch 21/100\n",
      "60/60 [==============================] - 4s 71ms/step - loss: 0.0028 - mean_absolute_error: 0.0388 - val_loss: 0.0023 - val_mean_absolute_error: 0.0342\n",
      "Epoch 22/100\n",
      "60/60 [==============================] - 3s 59ms/step - loss: 0.0029 - mean_absolute_error: 0.0396 - val_loss: 0.0021 - val_mean_absolute_error: 0.0328\n",
      "Epoch 23/100\n",
      "60/60 [==============================] - 3s 54ms/step - loss: 0.0029 - mean_absolute_error: 0.0397 - val_loss: 0.0021 - val_mean_absolute_error: 0.0336\n",
      "Epoch 24/100\n",
      "60/60 [==============================] - 3s 55ms/step - loss: 0.0026 - mean_absolute_error: 0.0380 - val_loss: 0.0021 - val_mean_absolute_error: 0.0330\n",
      "Epoch 25/100\n",
      "60/60 [==============================] - 3s 58ms/step - loss: 0.0028 - mean_absolute_error: 0.0394 - val_loss: 0.0020 - val_mean_absolute_error: 0.0326\n",
      "Epoch 26/100\n",
      "60/60 [==============================] - 4s 61ms/step - loss: 0.0027 - mean_absolute_error: 0.0383 - val_loss: 0.0020 - val_mean_absolute_error: 0.0330\n",
      "Epoch 27/100\n",
      "60/60 [==============================] - 4s 60ms/step - loss: 0.0027 - mean_absolute_error: 0.0384 - val_loss: 0.0021 - val_mean_absolute_error: 0.0342\n",
      "Epoch 28/100\n",
      "60/60 [==============================] - 4s 68ms/step - loss: 0.0027 - mean_absolute_error: 0.0388 - val_loss: 0.0021 - val_mean_absolute_error: 0.0338\n",
      "Epoch 29/100\n",
      "60/60 [==============================] - 4s 67ms/step - loss: 0.0028 - mean_absolute_error: 0.0395 - val_loss: 0.0024 - val_mean_absolute_error: 0.0358\n",
      "Epoch 30/100\n",
      "60/60 [==============================] - 4s 64ms/step - loss: 0.0027 - mean_absolute_error: 0.0393 - val_loss: 0.0029 - val_mean_absolute_error: 0.0399\n",
      "Epoch 31/100\n",
      "60/60 [==============================] - 4s 66ms/step - loss: 0.0029 - mean_absolute_error: 0.0400 - val_loss: 0.0021 - val_mean_absolute_error: 0.0346\n",
      "Epoch 32/100\n",
      "60/60 [==============================] - 4s 65ms/step - loss: 0.0027 - mean_absolute_error: 0.0383 - val_loss: 0.0032 - val_mean_absolute_error: 0.0425\n",
      "Epoch 33/100\n",
      "60/60 [==============================] - 4s 68ms/step - loss: 0.0028 - mean_absolute_error: 0.0396 - val_loss: 0.0021 - val_mean_absolute_error: 0.0347\n",
      "Epoch 34/100\n",
      "60/60 [==============================] - 4s 64ms/step - loss: 0.0027 - mean_absolute_error: 0.0384 - val_loss: 0.0021 - val_mean_absolute_error: 0.0329\n",
      "Epoch 35/100\n",
      "60/60 [==============================] - 4s 66ms/step - loss: 0.0027 - mean_absolute_error: 0.0386 - val_loss: 0.0020 - val_mean_absolute_error: 0.0320\n",
      "Epoch 36/100\n",
      "60/60 [==============================] - 4s 64ms/step - loss: 0.0027 - mean_absolute_error: 0.0386 - val_loss: 0.0020 - val_mean_absolute_error: 0.0327\n",
      "Epoch 37/100\n",
      "60/60 [==============================] - 4s 66ms/step - loss: 0.0027 - mean_absolute_error: 0.0384 - val_loss: 0.0020 - val_mean_absolute_error: 0.0323\n",
      "Epoch 38/100\n",
      "60/60 [==============================] - 4s 67ms/step - loss: 0.0026 - mean_absolute_error: 0.0377 - val_loss: 0.0020 - val_mean_absolute_error: 0.0319\n",
      "Epoch 39/100\n",
      "60/60 [==============================] - 4s 65ms/step - loss: 0.0027 - mean_absolute_error: 0.0383 - val_loss: 0.0024 - val_mean_absolute_error: 0.0366\n",
      "Epoch 40/100\n",
      "60/60 [==============================] - 4s 66ms/step - loss: 0.0027 - mean_absolute_error: 0.0389 - val_loss: 0.0020 - val_mean_absolute_error: 0.0337\n",
      "Epoch 41/100\n",
      "60/60 [==============================] - 4s 66ms/step - loss: 0.0025 - mean_absolute_error: 0.0375 - val_loss: 0.0020 - val_mean_absolute_error: 0.0321\n",
      "Epoch 42/100\n",
      "60/60 [==============================] - 5s 76ms/step - loss: 0.0025 - mean_absolute_error: 0.0366 - val_loss: 0.0020 - val_mean_absolute_error: 0.0321\n",
      "Epoch 43/100\n",
      "60/60 [==============================] - 4s 66ms/step - loss: 0.0027 - mean_absolute_error: 0.0381 - val_loss: 0.0019 - val_mean_absolute_error: 0.0314\n",
      "Epoch 44/100\n",
      "60/60 [==============================] - 4s 67ms/step - loss: 0.0027 - mean_absolute_error: 0.0385 - val_loss: 0.0021 - val_mean_absolute_error: 0.0330\n",
      "Epoch 45/100\n",
      "60/60 [==============================] - 4s 66ms/step - loss: 0.0026 - mean_absolute_error: 0.0383 - val_loss: 0.0019 - val_mean_absolute_error: 0.0316\n",
      "Epoch 46/100\n",
      "60/60 [==============================] - 4s 68ms/step - loss: 0.0025 - mean_absolute_error: 0.0375 - val_loss: 0.0020 - val_mean_absolute_error: 0.0320\n",
      "Epoch 47/100\n",
      "60/60 [==============================] - 4s 66ms/step - loss: 0.0028 - mean_absolute_error: 0.0388 - val_loss: 0.0021 - val_mean_absolute_error: 0.0334\n",
      "Epoch 48/100\n",
      "60/60 [==============================] - 4s 66ms/step - loss: 0.0027 - mean_absolute_error: 0.0391 - val_loss: 0.0020 - val_mean_absolute_error: 0.0335\n",
      "Epoch 49/100\n",
      "60/60 [==============================] - 4s 66ms/step - loss: 0.0026 - mean_absolute_error: 0.0377 - val_loss: 0.0021 - val_mean_absolute_error: 0.0330\n",
      "Epoch 50/100\n",
      "60/60 [==============================] - 4s 68ms/step - loss: 0.0027 - mean_absolute_error: 0.0385 - val_loss: 0.0022 - val_mean_absolute_error: 0.0355\n",
      "Epoch 51/100\n",
      "60/60 [==============================] - 4s 66ms/step - loss: 0.0025 - mean_absolute_error: 0.0375 - val_loss: 0.0019 - val_mean_absolute_error: 0.0313\n",
      "Epoch 52/100\n",
      "60/60 [==============================] - 4s 67ms/step - loss: 0.0025 - mean_absolute_error: 0.0369 - val_loss: 0.0021 - val_mean_absolute_error: 0.0340\n",
      "Epoch 53/100\n",
      "60/60 [==============================] - 4s 65ms/step - loss: 0.0027 - mean_absolute_error: 0.0386 - val_loss: 0.0019 - val_mean_absolute_error: 0.0318\n",
      "Epoch 54/100\n",
      "60/60 [==============================] - 4s 67ms/step - loss: 0.0025 - mean_absolute_error: 0.0372 - val_loss: 0.0021 - val_mean_absolute_error: 0.0329\n",
      "Epoch 55/100\n",
      "60/60 [==============================] - 4s 66ms/step - loss: 0.0026 - mean_absolute_error: 0.0379 - val_loss: 0.0021 - val_mean_absolute_error: 0.0347\n",
      "Epoch 56/100\n",
      "60/60 [==============================] - 4s 67ms/step - loss: 0.0027 - mean_absolute_error: 0.0394 - val_loss: 0.0019 - val_mean_absolute_error: 0.0322\n",
      "Epoch 57/100\n",
      "60/60 [==============================] - 4s 69ms/step - loss: 0.0026 - mean_absolute_error: 0.0377 - val_loss: 0.0023 - val_mean_absolute_error: 0.0342\n",
      "Epoch 58/100\n",
      "60/60 [==============================] - 4s 68ms/step - loss: 0.0026 - mean_absolute_error: 0.0380 - val_loss: 0.0019 - val_mean_absolute_error: 0.0319\n",
      "Epoch 59/100\n",
      "60/60 [==============================] - 4s 67ms/step - loss: 0.0027 - mean_absolute_error: 0.0388 - val_loss: 0.0019 - val_mean_absolute_error: 0.0317\n",
      "Epoch 60/100\n",
      "60/60 [==============================] - 4s 67ms/step - loss: 0.0025 - mean_absolute_error: 0.0374 - val_loss: 0.0019 - val_mean_absolute_error: 0.0319\n",
      "Epoch 61/100\n",
      "60/60 [==============================] - 4s 67ms/step - loss: 0.0027 - mean_absolute_error: 0.0381 - val_loss: 0.0019 - val_mean_absolute_error: 0.0309\n",
      "Epoch 62/100\n",
      "60/60 [==============================] - 4s 61ms/step - loss: 0.0024 - mean_absolute_error: 0.0363 - val_loss: 0.0020 - val_mean_absolute_error: 0.0316\n",
      "Epoch 63/100\n",
      "60/60 [==============================] - 3s 58ms/step - loss: 0.0025 - mean_absolute_error: 0.0376 - val_loss: 0.0019 - val_mean_absolute_error: 0.0321\n",
      "Epoch 64/100\n",
      "60/60 [==============================] - 4s 61ms/step - loss: 0.0025 - mean_absolute_error: 0.0371 - val_loss: 0.0019 - val_mean_absolute_error: 0.0315\n",
      "Epoch 65/100\n",
      "60/60 [==============================] - 4s 66ms/step - loss: 0.0024 - mean_absolute_error: 0.0361 - val_loss: 0.0019 - val_mean_absolute_error: 0.0321\n",
      "Epoch 66/100\n",
      "60/60 [==============================] - 4s 68ms/step - loss: 0.0024 - mean_absolute_error: 0.0366 - val_loss: 0.0020 - val_mean_absolute_error: 0.0322\n",
      "Epoch 67/100\n",
      "60/60 [==============================] - 4s 65ms/step - loss: 0.0024 - mean_absolute_error: 0.0362 - val_loss: 0.0020 - val_mean_absolute_error: 0.0326\n",
      "Epoch 68/100\n",
      "60/60 [==============================] - 5s 78ms/step - loss: 0.0024 - mean_absolute_error: 0.0359 - val_loss: 0.0019 - val_mean_absolute_error: 0.0311\n",
      "Restoring model weights from the end of the best epoch.\n",
      "Epoch 00068: early stopping\n"
     ]
    }
   ],
   "metadata": {}
  },
  {
   "cell_type": "code",
   "execution_count": 13,
   "source": [
    "# Plot training history\r\n",
    "history_df = pd.DataFrame(history.history)\r\n",
    "history_df.loc[:, ['loss', 'val_loss']].plot()\r\n",
    "history_df.loc[:, ['mean_absolute_error', 'val_mean_absolute_error']].plot()"
   ],
   "outputs": [
    {
     "output_type": "execute_result",
     "data": {
      "text/plain": [
       "<AxesSubplot:>"
      ]
     },
     "metadata": {},
     "execution_count": 13
    },
    {
     "output_type": "display_data",
     "data": {
      "text/plain": [
       "<Figure size 432x288 with 1 Axes>"
      ],
      "image/png": "[encoded data removed]"
     },
     "metadata": {
      "needs_background": "light"
     }
    },
    {
     "output_type": "display_data",
     "data": {
      "text/plain": [
       "<Figure size 432x288 with 1 Axes>"
      ],
      "image/png": "[encoded data removed]"
     },
     "metadata": {
      "needs_background": "light"
     }
    }
   ],
   "metadata": {}
  },
  {
   "cell_type": "code",
   "execution_count": null,
   "source": [],
   "outputs": [],
   "metadata": {}
  }
 ],
 "metadata": {
  "orig_nbformat": 4,
  "language_info": {
   "name": "python",
   "version": "3.6.8",
   "mimetype": "text/x-python",
   "codemirror_mode": {
    "name": "ipython",
    "version": 3
   },
   "pygments_lexer": "ipython3",
   "nbconvert_exporter": "python",
   "file_extension": ".py"
  },
  "kernelspec": {
   "name": "python3",
   "display_name": "Python 3.6.8 64-bit"
  },
  "interpreter": {
   "hash": "79b34c132431629d3c5274ec3b6bb03b828c385fb18b030c8223d0c222d2b2a1"
  }
 },
 "nbformat": 4,
 "nbformat_minor": 2
}