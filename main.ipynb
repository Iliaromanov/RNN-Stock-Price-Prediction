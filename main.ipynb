{
 "cells": [
  {
   "cell_type": "code",
   "execution_count": 1,
   "source": [
    "import numpy as np\r\n",
    "import matplotlib.pyplot as plt\r\n",
    "import pandas as pd\r\n",
    "import pandas_datareader as pdr\r\n",
    "from datetime import datetime as dt\r\n",
    "\r\n",
    "import tensorflow as tf\r\n",
    "from tensorflow import keras\r\n",
    "from tensorflow.keras import layers\r\n",
    "from sklearn.preprocessing import MinMaxScaler"
   ],
   "outputs": [],
   "metadata": {}
  },
  {
   "cell_type": "code",
   "execution_count": 2,
   "source": [
    "# Load data for specific company\r\n",
    "company = 'FB'  # using facebook as an example\r\n",
    "\r\n",
    "start = dt(2012, 1, 1)\r\n",
    "end = dt(2021, 8, 1)\r\n",
    "\r\n",
    "data = pdr.DataReader(company, 'yahoo', start, end)"
   ],
   "outputs": [],
   "metadata": {
    "collapsed": false,
    "pycharm": {
     "name": "#%%\n"
    }
   }
  },
  {
   "cell_type": "code",
   "execution_count": 3,
   "source": [
    "data.head()  # we want to predict the values in the Close column, based on preceding Close column entries"
   ],
   "outputs": [
    {
     "output_type": "execute_result",
     "data": {
      "text/plain": [
       "                 High        Low       Open      Close     Volume  Adj Close\n",
       "Date                                                                        \n",
       "2012-05-18  45.000000  38.000000  42.049999  38.230000  573576400  38.230000\n",
       "2012-05-21  36.660000  33.000000  36.529999  34.029999  168192700  34.029999\n",
       "2012-05-22  33.590000  30.940001  32.610001  31.000000  101786600  31.000000\n",
       "2012-05-23  32.500000  31.360001  31.370001  32.000000   73600000  32.000000\n",
       "2012-05-24  33.209999  31.770000  32.950001  33.029999   50237200  33.029999"
      ],
      "text/html": [
       "<div>\n",
       "<style scoped>\n",
       "    .dataframe tbody tr th:only-of-type {\n",
       "        vertical-align: middle;\n",
       "    }\n",
       "\n",
       "    .dataframe tbody tr th {\n",
       "        vertical-align: top;\n",
       "    }\n",
       "\n",
       "    .dataframe thead th {\n",
       "        text-align: right;\n",
       "    }\n",
       "</style>\n",
       "<table border=\"1\" class=\"dataframe\">\n",
       "  <thead>\n",
       "    <tr style=\"text-align: right;\">\n",
       "      <th></th>\n",
       "      <th>High</th>\n",
       "      <th>Low</th>\n",
       "      <th>Open</th>\n",
       "      <th>Close</th>\n",
       "      <th>Volume</th>\n",
       "      <th>Adj Close</th>\n",
       "    </tr>\n",
       "    <tr>\n",
       "      <th>Date</th>\n",
       "      <th></th>\n",
       "      <th></th>\n",
       "      <th></th>\n",
       "      <th></th>\n",
       "      <th></th>\n",
       "      <th></th>\n",
       "    </tr>\n",
       "  </thead>\n",
       "  <tbody>\n",
       "    <tr>\n",
       "      <th>2012-05-18</th>\n",
       "      <td>45.000000</td>\n",
       "      <td>38.000000</td>\n",
       "      <td>42.049999</td>\n",
       "      <td>38.230000</td>\n",
       "      <td>573576400</td>\n",
       "      <td>38.230000</td>\n",
       "    </tr>\n",
       "    <tr>\n",
       "      <th>2012-05-21</th>\n",
       "      <td>36.660000</td>\n",
       "      <td>33.000000</td>\n",
       "      <td>36.529999</td>\n",
       "      <td>34.029999</td>\n",
       "      <td>168192700</td>\n",
       "      <td>34.029999</td>\n",
       "    </tr>\n",
       "    <tr>\n",
       "      <th>2012-05-22</th>\n",
       "      <td>33.590000</td>\n",
       "      <td>30.940001</td>\n",
       "      <td>32.610001</td>\n",
       "      <td>31.000000</td>\n",
       "      <td>101786600</td>\n",
       "      <td>31.000000</td>\n",
       "    </tr>\n",
       "    <tr>\n",
       "      <th>2012-05-23</th>\n",
       "      <td>32.500000</td>\n",
       "      <td>31.360001</td>\n",
       "      <td>31.370001</td>\n",
       "      <td>32.000000</td>\n",
       "      <td>73600000</td>\n",
       "      <td>32.000000</td>\n",
       "    </tr>\n",
       "    <tr>\n",
       "      <th>2012-05-24</th>\n",
       "      <td>33.209999</td>\n",
       "      <td>31.770000</td>\n",
       "      <td>32.950001</td>\n",
       "      <td>33.029999</td>\n",
       "      <td>50237200</td>\n",
       "      <td>33.029999</td>\n",
       "    </tr>\n",
       "  </tbody>\n",
       "</table>\n",
       "</div>"
      ]
     },
     "metadata": {},
     "execution_count": 3
    }
   ],
   "metadata": {}
  },
  {
   "cell_type": "code",
   "execution_count": 4,
   "source": [
    "# Scale data to range between [0,1]\r\n",
    "scaler = MinMaxScaler(feature_range=(0,1))\r\n",
    "scaled_data = scaler.fit_transform(data['Close'].values.reshape(-1,1))  # before scaling, reshape the closing values array into a single column vector"
   ],
   "outputs": [],
   "metadata": {}
  },
  {
   "cell_type": "code",
   "execution_count": 12,
   "source": [
    "prediction_days = 60  # number of days of data to use for making prediction\r\n",
    "\r\n",
    "x_train, y_train = [], []\r\n",
    "\r\n",
    "for x in range(prediction_days, len(scaled_data)):\r\n",
    "    x_train.append(scaled_data[x - prediction_days:x])  # prediction_days values before x is the input \r\n",
    "    y_train.append(scaled_data[x, 0])  # the single value after prediction_days values, x, is the output (,0 is to flatten)\r\n",
    "\r\n",
    "# Convert to numpy arrays\r\n",
    "x_train, y_train = np.array(x_train), np.array(y_train)"
   ],
   "outputs": [],
   "metadata": {}
  },
  {
   "cell_type": "code",
   "execution_count": 15,
   "source": [
    "print(x_train[0])\r\n",
    "print(\"-----------\")\r\n",
    "print(y_train[0])"
   ],
   "outputs": [
    {
     "output_type": "stream",
     "name": "stdout",
     "text": [
      "[[0.05765715]\n",
      " [0.04584446]\n",
      " [0.03732246]\n",
      " [0.040135  ]\n",
      " [0.04303192]\n",
      " [0.03988187]\n",
      " [0.03124737]\n",
      " [0.02941921]\n",
      " [0.0333849 ]\n",
      " [0.02809731]\n",
      " [0.02579103]\n",
      " [0.02289411]\n",
      " [0.0255379 ]\n",
      " [0.02413163]\n",
      " [0.02635354]\n",
      " [0.02610041]\n",
      " [0.0271973 ]\n",
      " [0.02683167]\n",
      " [0.02970047]\n",
      " [0.03453804]\n",
      " [0.0384756 ]\n",
      " [0.03988187]\n",
      " [0.03900999]\n",
      " [0.039685  ]\n",
      " [0.04308817]\n",
      " [0.04030376]\n",
      " [0.0432288 ]\n",
      " [0.04078189]\n",
      " [0.03833498]\n",
      " [0.03760371]\n",
      " [0.03667558]\n",
      " [0.03788497]\n",
      " [0.03864435]\n",
      " [0.03937562]\n",
      " [0.04061313]\n",
      " [0.03864435]\n",
      " [0.03723808]\n",
      " [0.03678807]\n",
      " [0.03653495]\n",
      " [0.02958796]\n",
      " [0.02913796]\n",
      " [0.03200675]\n",
      " [0.03169737]\n",
      " [0.03102236]\n",
      " [0.03099424]\n",
      " [0.03015047]\n",
      " [0.03265364]\n",
      " [0.0256504 ]\n",
      " [0.01681901]\n",
      " [0.01524399]\n",
      " [0.01119392]\n",
      " [0.00885951]\n",
      " [0.00649698]\n",
      " [0.00945015]\n",
      " [0.01178456]\n",
      " [0.00840951]\n",
      " [0.00840951]\n",
      " [0.00922515]\n",
      " [0.01147518]\n",
      " [0.01088455]]\n",
      "-----------\n",
      "0.007453240399990561\n"
     ]
    }
   ],
   "metadata": {}
  }
 ],
 "metadata": {
  "orig_nbformat": 4,
  "language_info": {
   "name": "python",
   "version": "3.6.8",
   "mimetype": "text/x-python",
   "codemirror_mode": {
    "name": "ipython",
    "version": 3
   },
   "pygments_lexer": "ipython3",
   "nbconvert_exporter": "python",
   "file_extension": ".py"
  },
  "kernelspec": {
   "name": "python3",
   "display_name": "Python 3.6.8 64-bit"
  },
  "interpreter": {
   "hash": "79b34c132431629d3c5274ec3b6bb03b828c385fb18b030c8223d0c222d2b2a1"
  }
 },
 "nbformat": 4,
 "nbformat_minor": 2
}