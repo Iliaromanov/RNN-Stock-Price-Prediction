{
 "cells": [
  {
   "cell_type": "code",
   "execution_count": 1,
   "source": [
    "import numpy as np\r\n",
    "import matplotlib.pyplot as plt\r\n",
    "import pandas as pd\r\n",
    "import pandas_datareader as pdr\r\n",
    "from datetime import datetime as dt\r\n",
    "\r\n",
    "import tensorflow as tf\r\n",
    "from tensorflow.keras import layers\r\n",
    "from sklearn.preprocessing import MinMaxScaler\r\n",
    "\r\n",
    "%matplotlib inline"
   ],
   "outputs": [],
   "metadata": {}
  },
  {
   "cell_type": "code",
   "execution_count": 2,
   "source": [
    "# Load data for specific company\r\n",
    "company = 'FB'  # using facebook as an example\r\n",
    "\r\n",
    "start = dt(2012, 1, 1)\r\n",
    "end = dt(2020, 8, 1)\r\n",
    "\r\n",
    "training_data = pdr.DataReader(company, 'yahoo', start, end)\r\n",
    "validation_data = pdr.DataReader(company, 'yahoo', end, dt(dt.now().year, dt.now().month, dt.now().day))"
   ],
   "outputs": [],
   "metadata": {
    "collapsed": false,
    "pycharm": {
     "name": "#%%\n"
    }
   }
  },
  {
   "cell_type": "code",
   "execution_count": 3,
   "source": [
    "training_data.head()  # we want to predict the values in the Close column, based on preceding Close column entries"
   ],
   "outputs": [
    {
     "output_type": "execute_result",
     "data": {
      "text/plain": [
       "                 High        Low       Open      Close     Volume  Adj Close\n",
       "Date                                                                        \n",
       "2012-05-18  45.000000  38.000000  42.049999  38.230000  573576400  38.230000\n",
       "2012-05-21  36.660000  33.000000  36.529999  34.029999  168192700  34.029999\n",
       "2012-05-22  33.590000  30.940001  32.610001  31.000000  101786600  31.000000\n",
       "2012-05-23  32.500000  31.360001  31.370001  32.000000   73600000  32.000000\n",
       "2012-05-24  33.209999  31.770000  32.950001  33.029999   50237200  33.029999"
      ],
      "text/html": [
       "<div>\n",
       "<style scoped>\n",
       "    .dataframe tbody tr th:only-of-type {\n",
       "        vertical-align: middle;\n",
       "    }\n",
       "\n",
       "    .dataframe tbody tr th {\n",
       "        vertical-align: top;\n",
       "    }\n",
       "\n",
       "    .dataframe thead th {\n",
       "        text-align: right;\n",
       "    }\n",
       "</style>\n",
       "<table border=\"1\" class=\"dataframe\">\n",
       "  <thead>\n",
       "    <tr style=\"text-align: right;\">\n",
       "      <th></th>\n",
       "      <th>High</th>\n",
       "      <th>Low</th>\n",
       "      <th>Open</th>\n",
       "      <th>Close</th>\n",
       "      <th>Volume</th>\n",
       "      <th>Adj Close</th>\n",
       "    </tr>\n",
       "    <tr>\n",
       "      <th>Date</th>\n",
       "      <th></th>\n",
       "      <th></th>\n",
       "      <th></th>\n",
       "      <th></th>\n",
       "      <th></th>\n",
       "      <th></th>\n",
       "    </tr>\n",
       "  </thead>\n",
       "  <tbody>\n",
       "    <tr>\n",
       "      <th>2012-05-18</th>\n",
       "      <td>45.000000</td>\n",
       "      <td>38.000000</td>\n",
       "      <td>42.049999</td>\n",
       "      <td>38.230000</td>\n",
       "      <td>573576400</td>\n",
       "      <td>38.230000</td>\n",
       "    </tr>\n",
       "    <tr>\n",
       "      <th>2012-05-21</th>\n",
       "      <td>36.660000</td>\n",
       "      <td>33.000000</td>\n",
       "      <td>36.529999</td>\n",
       "      <td>34.029999</td>\n",
       "      <td>168192700</td>\n",
       "      <td>34.029999</td>\n",
       "    </tr>\n",
       "    <tr>\n",
       "      <th>2012-05-22</th>\n",
       "      <td>33.590000</td>\n",
       "      <td>30.940001</td>\n",
       "      <td>32.610001</td>\n",
       "      <td>31.000000</td>\n",
       "      <td>101786600</td>\n",
       "      <td>31.000000</td>\n",
       "    </tr>\n",
       "    <tr>\n",
       "      <th>2012-05-23</th>\n",
       "      <td>32.500000</td>\n",
       "      <td>31.360001</td>\n",
       "      <td>31.370001</td>\n",
       "      <td>32.000000</td>\n",
       "      <td>73600000</td>\n",
       "      <td>32.000000</td>\n",
       "    </tr>\n",
       "    <tr>\n",
       "      <th>2012-05-24</th>\n",
       "      <td>33.209999</td>\n",
       "      <td>31.770000</td>\n",
       "      <td>32.950001</td>\n",
       "      <td>33.029999</td>\n",
       "      <td>50237200</td>\n",
       "      <td>33.029999</td>\n",
       "    </tr>\n",
       "  </tbody>\n",
       "</table>\n",
       "</div>"
      ]
     },
     "metadata": {},
     "execution_count": 3
    }
   ],
   "metadata": {}
  },
  {
   "cell_type": "code",
   "execution_count": 4,
   "source": [
    "# Scale data to range between [0,1]\r\n",
    "scaler = MinMaxScaler(feature_range=(0,1))\r\n",
    "scaled_data = scaler.fit_transform(training_data['Close'].values.reshape(-1,1))  # before scaling, reshape the closing values array into a single column vector"
   ],
   "outputs": [],
   "metadata": {}
  },
  {
   "cell_type": "code",
   "execution_count": 5,
   "source": [
    "prediction_days = 60  # number of days of data to use for making prediction\r\n",
    "\r\n",
    "X, Y = [], []\r\n",
    "\r\n",
    "for x in range(prediction_days, len(scaled_data)):\r\n",
    "    X.append(scaled_data[x - prediction_days:x])  # prediction_days values before x is the input \r\n",
    "    Y.append(scaled_data[x, 0])  # the single value after prediction_days values, x, is the output (,0 is to flatten)\r\n",
    "\r\n",
    "# Convert to numpy arrays\r\n",
    "X, Y = np.array(X), np.array(Y)"
   ],
   "outputs": [],
   "metadata": {}
  },
  {
   "cell_type": "code",
   "execution_count": 6,
   "source": [
    "print(X.shape, Y.shape)"
   ],
   "outputs": [
    {
     "output_type": "stream",
     "name": "stdout",
     "text": [
      "(2004, 60, 1) (2004,)\n"
     ]
    }
   ],
   "metadata": {}
  },
  {
   "cell_type": "code",
   "execution_count": 7,
   "source": [
    "# Save the last 100 data pairs for validation\r\n",
    "x_train, y_train, x_valid, y_valid = X[:X.shape[0]-100], Y[:Y.shape[0]-100], X[X.shape[0]-100:], Y[Y.shape[0]-100:]"
   ],
   "outputs": [],
   "metadata": {}
  },
  {
   "cell_type": "code",
   "execution_count": 8,
   "source": [
    "print(x_train[0])\r\n",
    "print(\"-----------\")\r\n",
    "print(y_train[0])"
   ],
   "outputs": [
    {
     "output_type": "stream",
     "name": "stdout",
     "text": [
      "[[0.0868865 ]\n",
      " [0.06908536]\n",
      " [0.05624311]\n",
      " [0.06048148]\n",
      " [0.06484699]\n",
      " [0.06010003]\n",
      " [0.04708825]\n",
      " [0.04433331]\n",
      " [0.0503094 ]\n",
      " [0.04234127]\n",
      " [0.03886581]\n",
      " [0.0345003 ]\n",
      " [0.03848436]\n",
      " [0.03636518]\n",
      " [0.03971349]\n",
      " [0.03933204]\n",
      " [0.040985  ]\n",
      " [0.04043401]\n",
      " [0.04475715]\n",
      " [0.05204713]\n",
      " [0.05798084]\n",
      " [0.06010003]\n",
      " [0.05878614]\n",
      " [0.05980334]\n",
      " [0.06493176]\n",
      " [0.06073579]\n",
      " [0.06514368]\n",
      " [0.0614563 ]\n",
      " [0.05776893]\n",
      " [0.05666695]\n",
      " [0.05526829]\n",
      " [0.05709079]\n",
      " [0.05823514]\n",
      " [0.05933712]\n",
      " [0.061202  ]\n",
      " [0.05823514]\n",
      " [0.05611596]\n",
      " [0.05543782]\n",
      " [0.05505637]\n",
      " [0.04458761]\n",
      " [0.04390947]\n",
      " [0.04823261]\n",
      " [0.04776638]\n",
      " [0.04674918]\n",
      " [0.04670679]\n",
      " [0.04543529]\n",
      " [0.04920743]\n",
      " [0.0386539 ]\n",
      " [0.02534543]\n",
      " [0.02297194]\n",
      " [0.01686869]\n",
      " [0.01335085]\n",
      " [0.00979063]\n",
      " [0.01424091]\n",
      " [0.01775875]\n",
      " [0.01267271]\n",
      " [0.01267271]\n",
      " [0.01390184]\n",
      " [0.01729253]\n",
      " [0.01640248]]\n",
      "-----------\n",
      "0.011231667516973048\n"
     ]
    }
   ],
   "metadata": {}
  },
  {
   "cell_type": "code",
   "execution_count": 9,
   "source": [
    "# Building the RNN model\r\n",
    "model = tf.keras.Sequential([\r\n",
    "    layers.LSTM(50, return_sequences=True, input_shape=(x_train.shape[1], 1)), # return_sequences determines if output is flat or is a sequence\r\n",
    "    layers.Dropout(0.2),\r\n",
    "    layers.LSTM(50, return_sequences=True),\r\n",
    "    layers.Dropout(0.2),\r\n",
    "    layers.LSTM(50, return_sequences=False),\r\n",
    "    layers.Dropout(0.2),\r\n",
    "\r\n",
    "    layers.Dense(25),\r\n",
    "    layers.Dense(1)  # predicition layer\r\n",
    "])"
   ],
   "outputs": [],
   "metadata": {}
  },
  {
   "cell_type": "code",
   "execution_count": 10,
   "source": [
    "# opt = keras.optimizers.Adam(lr=1e-3, decay=1e-5)\r\n",
    "model.compile(\r\n",
    "    optimizer='adam',\r\n",
    "    loss='mean_squared_error',\r\n",
    "    metrics=['mean_absolute_error']\r\n",
    ")"
   ],
   "outputs": [],
   "metadata": {}
  },
  {
   "cell_type": "code",
   "execution_count": 11,
   "source": [
    "from tensorflow.keras.callbacks import EarlyStopping\r\n",
    "\r\n",
    "early_stopping = EarlyStopping(\r\n",
    "    monitor='val_mean_absolute_error',\r\n",
    "    min_delta=0.001,\r\n",
    "    verbose=1,\r\n",
    "    patience=25,\r\n",
    "    restore_best_weights=True\r\n",
    ")"
   ],
   "outputs": [],
   "metadata": {}
  },
  {
   "cell_type": "code",
   "execution_count": 12,
   "source": [
    "history = model.fit(\r\n",
    "    x_train, y_train,\r\n",
    "    validation_data=(x_train, y_train),\r\n",
    "    epochs=100,\r\n",
    "    batch_size=32,\r\n",
    "    callbacks=[early_stopping]\r\n",
    ")"
   ],
   "outputs": [
    {
     "output_type": "stream",
     "name": "stdout",
     "text": [
      "Epoch 1/100\n",
      "60/60 [==============================] - 8s 70ms/step - loss: 0.0332 - mean_absolute_error: 0.1212 - val_loss: 6.7884e-04 - val_mean_absolute_error: 0.0192\n",
      "Epoch 2/100\n",
      "60/60 [==============================] - 3s 52ms/step - loss: 0.0029 - mean_absolute_error: 0.0392 - val_loss: 7.5504e-04 - val_mean_absolute_error: 0.0199\n",
      "Epoch 3/100\n",
      "60/60 [==============================] - 3s 52ms/step - loss: 0.0027 - mean_absolute_error: 0.0371 - val_loss: 9.2596e-04 - val_mean_absolute_error: 0.0223\n",
      "Epoch 4/100\n",
      "60/60 [==============================] - 3s 53ms/step - loss: 0.0021 - mean_absolute_error: 0.0324 - val_loss: 5.9855e-04 - val_mean_absolute_error: 0.0173\n",
      "Epoch 5/100\n",
      "60/60 [==============================] - 3s 53ms/step - loss: 0.0018 - mean_absolute_error: 0.0301 - val_loss: 8.3991e-04 - val_mean_absolute_error: 0.0216\n",
      "Epoch 6/100\n",
      "60/60 [==============================] - 3s 52ms/step - loss: 0.0018 - mean_absolute_error: 0.0298 - val_loss: 8.4876e-04 - val_mean_absolute_error: 0.0203\n",
      "Epoch 7/100\n",
      "60/60 [==============================] - 3s 53ms/step - loss: 0.0016 - mean_absolute_error: 0.0286 - val_loss: 5.7164e-04 - val_mean_absolute_error: 0.0165\n",
      "Epoch 8/100\n",
      "60/60 [==============================] - 3s 53ms/step - loss: 0.0013 - mean_absolute_error: 0.0259 - val_loss: 5.7710e-04 - val_mean_absolute_error: 0.0174\n",
      "Epoch 9/100\n",
      "60/60 [==============================] - 3s 54ms/step - loss: 0.0015 - mean_absolute_error: 0.0270 - val_loss: 8.8825e-04 - val_mean_absolute_error: 0.0221\n",
      "Epoch 10/100\n",
      "60/60 [==============================] - 3s 54ms/step - loss: 0.0014 - mean_absolute_error: 0.0262 - val_loss: 5.7676e-04 - val_mean_absolute_error: 0.0171\n",
      "Epoch 11/100\n",
      "60/60 [==============================] - 3s 54ms/step - loss: 0.0014 - mean_absolute_error: 0.0264 - val_loss: 9.8342e-04 - val_mean_absolute_error: 0.0228\n",
      "Epoch 12/100\n",
      "60/60 [==============================] - 3s 56ms/step - loss: 0.0013 - mean_absolute_error: 0.0257 - val_loss: 5.3335e-04 - val_mean_absolute_error: 0.0161\n",
      "Epoch 13/100\n",
      "60/60 [==============================] - 3s 56ms/step - loss: 0.0012 - mean_absolute_error: 0.0251 - val_loss: 8.4944e-04 - val_mean_absolute_error: 0.0205\n",
      "Epoch 14/100\n",
      "60/60 [==============================] - 3s 58ms/step - loss: 0.0010 - mean_absolute_error: 0.0231 - val_loss: 6.2725e-04 - val_mean_absolute_error: 0.0193\n",
      "Epoch 15/100\n",
      "60/60 [==============================] - 3s 56ms/step - loss: 9.7676e-04 - mean_absolute_error: 0.0229 - val_loss: 5.5551e-04 - val_mean_absolute_error: 0.0177\n",
      "Epoch 16/100\n",
      "60/60 [==============================] - 3s 56ms/step - loss: 0.0011 - mean_absolute_error: 0.0243 - val_loss: 6.2094e-04 - val_mean_absolute_error: 0.0178\n",
      "Epoch 17/100\n",
      "60/60 [==============================] - 3s 56ms/step - loss: 0.0010 - mean_absolute_error: 0.0232 - val_loss: 4.9699e-04 - val_mean_absolute_error: 0.0158\n",
      "Epoch 18/100\n",
      "60/60 [==============================] - 3s 58ms/step - loss: 0.0010 - mean_absolute_error: 0.0237 - val_loss: 6.5289e-04 - val_mean_absolute_error: 0.0177\n",
      "Epoch 19/100\n",
      "60/60 [==============================] - 4s 61ms/step - loss: 0.0011 - mean_absolute_error: 0.0242 - val_loss: 6.1543e-04 - val_mean_absolute_error: 0.0195\n",
      "Epoch 20/100\n",
      "60/60 [==============================] - 3s 56ms/step - loss: 0.0011 - mean_absolute_error: 0.0241 - val_loss: 4.6850e-04 - val_mean_absolute_error: 0.0153\n",
      "Epoch 21/100\n",
      "60/60 [==============================] - 3s 56ms/step - loss: 9.9142e-04 - mean_absolute_error: 0.0229 - val_loss: 4.4221e-04 - val_mean_absolute_error: 0.0140\n",
      "Epoch 22/100\n",
      "60/60 [==============================] - 3s 58ms/step - loss: 8.7159e-04 - mean_absolute_error: 0.0218 - val_loss: 5.4903e-04 - val_mean_absolute_error: 0.0172\n",
      "Epoch 23/100\n",
      "60/60 [==============================] - 4s 59ms/step - loss: 0.0010 - mean_absolute_error: 0.0233 - val_loss: 4.3440e-04 - val_mean_absolute_error: 0.0140\n",
      "Epoch 24/100\n",
      "60/60 [==============================] - 3s 54ms/step - loss: 8.2813e-04 - mean_absolute_error: 0.0216 - val_loss: 0.0012 - val_mean_absolute_error: 0.0259\n",
      "Epoch 25/100\n",
      "60/60 [==============================] - 3s 55ms/step - loss: 0.0011 - mean_absolute_error: 0.0249 - val_loss: 4.0363e-04 - val_mean_absolute_error: 0.0138\n",
      "Epoch 26/100\n",
      "60/60 [==============================] - 3s 54ms/step - loss: 8.6369e-04 - mean_absolute_error: 0.0213 - val_loss: 4.2626e-04 - val_mean_absolute_error: 0.0150\n",
      "Epoch 27/100\n",
      "60/60 [==============================] - 3s 56ms/step - loss: 9.0276e-04 - mean_absolute_error: 0.0221 - val_loss: 4.6731e-04 - val_mean_absolute_error: 0.0144\n",
      "Epoch 28/100\n",
      "60/60 [==============================] - 3s 54ms/step - loss: 9.3507e-04 - mean_absolute_error: 0.0227 - val_loss: 4.8040e-04 - val_mean_absolute_error: 0.0161\n",
      "Epoch 29/100\n",
      "60/60 [==============================] - 3s 56ms/step - loss: 0.0011 - mean_absolute_error: 0.0243 - val_loss: 5.1358e-04 - val_mean_absolute_error: 0.0159\n",
      "Epoch 30/100\n",
      "60/60 [==============================] - 3s 54ms/step - loss: 8.4288e-04 - mean_absolute_error: 0.0211 - val_loss: 4.8478e-04 - val_mean_absolute_error: 0.0161\n",
      "Epoch 31/100\n",
      "60/60 [==============================] - 3s 55ms/step - loss: 9.5967e-04 - mean_absolute_error: 0.0231 - val_loss: 5.2690e-04 - val_mean_absolute_error: 0.0153\n",
      "Epoch 32/100\n",
      "60/60 [==============================] - 3s 54ms/step - loss: 8.5365e-04 - mean_absolute_error: 0.0218 - val_loss: 5.8137e-04 - val_mean_absolute_error: 0.0166\n",
      "Epoch 33/100\n",
      "60/60 [==============================] - 3s 54ms/step - loss: 8.7867e-04 - mean_absolute_error: 0.0221 - val_loss: 7.1236e-04 - val_mean_absolute_error: 0.0201\n",
      "Epoch 34/100\n",
      "60/60 [==============================] - 3s 55ms/step - loss: 8.4815e-04 - mean_absolute_error: 0.0220 - val_loss: 3.8761e-04 - val_mean_absolute_error: 0.0133\n",
      "Epoch 35/100\n",
      "60/60 [==============================] - 3s 57ms/step - loss: 9.1010e-04 - mean_absolute_error: 0.0224 - val_loss: 4.1214e-04 - val_mean_absolute_error: 0.0146\n",
      "Epoch 36/100\n",
      "60/60 [==============================] - 3s 58ms/step - loss: 7.8698e-04 - mean_absolute_error: 0.0210 - val_loss: 3.3690e-04 - val_mean_absolute_error: 0.0127\n",
      "Epoch 37/100\n",
      "60/60 [==============================] - 3s 53ms/step - loss: 8.6952e-04 - mean_absolute_error: 0.0221 - val_loss: 3.5441e-04 - val_mean_absolute_error: 0.0130\n",
      "Epoch 38/100\n",
      "60/60 [==============================] - 3s 54ms/step - loss: 8.7073e-04 - mean_absolute_error: 0.0217 - val_loss: 4.7856e-04 - val_mean_absolute_error: 0.0154\n",
      "Epoch 39/100\n",
      "60/60 [==============================] - 3s 58ms/step - loss: 8.6607e-04 - mean_absolute_error: 0.0221 - val_loss: 3.5528e-04 - val_mean_absolute_error: 0.0136\n",
      "Epoch 40/100\n",
      "60/60 [==============================] - 4s 68ms/step - loss: 8.4982e-04 - mean_absolute_error: 0.0210 - val_loss: 3.7666e-04 - val_mean_absolute_error: 0.0143\n",
      "Epoch 41/100\n",
      "60/60 [==============================] - 6s 95ms/step - loss: 8.3533e-04 - mean_absolute_error: 0.0207 - val_loss: 3.0702e-04 - val_mean_absolute_error: 0.0120\n",
      "Epoch 42/100\n",
      "60/60 [==============================] - 5s 91ms/step - loss: 7.8118e-04 - mean_absolute_error: 0.0203 - val_loss: 3.3729e-04 - val_mean_absolute_error: 0.0127\n",
      "Epoch 43/100\n",
      "60/60 [==============================] - 5s 82ms/step - loss: 8.3045e-04 - mean_absolute_error: 0.0211 - val_loss: 3.1182e-04 - val_mean_absolute_error: 0.0121\n",
      "Epoch 44/100\n",
      "60/60 [==============================] - 5s 77ms/step - loss: 7.7760e-04 - mean_absolute_error: 0.0205 - val_loss: 5.7668e-04 - val_mean_absolute_error: 0.0184\n",
      "Epoch 45/100\n",
      "60/60 [==============================] - 5s 78ms/step - loss: 8.8605e-04 - mean_absolute_error: 0.0214 - val_loss: 4.1248e-04 - val_mean_absolute_error: 0.0160\n",
      "Epoch 46/100\n",
      "60/60 [==============================] - 5s 84ms/step - loss: 7.7534e-04 - mean_absolute_error: 0.0212 - val_loss: 3.6856e-04 - val_mean_absolute_error: 0.0137\n",
      "Epoch 47/100\n",
      "60/60 [==============================] - 6s 97ms/step - loss: 8.5343e-04 - mean_absolute_error: 0.0218 - val_loss: 5.0429e-04 - val_mean_absolute_error: 0.0155\n",
      "Epoch 48/100\n",
      "60/60 [==============================] - 5s 79ms/step - loss: 0.0010 - mean_absolute_error: 0.0248 - val_loss: 2.9264e-04 - val_mean_absolute_error: 0.0121\n",
      "Epoch 49/100\n",
      "60/60 [==============================] - 5s 81ms/step - loss: 7.7006e-04 - mean_absolute_error: 0.0213 - val_loss: 3.9092e-04 - val_mean_absolute_error: 0.0132\n",
      "Epoch 50/100\n",
      "60/60 [==============================] - 4s 71ms/step - loss: 9.0923e-04 - mean_absolute_error: 0.0229 - val_loss: 2.9433e-04 - val_mean_absolute_error: 0.0121\n",
      "Epoch 51/100\n",
      "60/60 [==============================] - 5s 84ms/step - loss: 7.9585e-04 - mean_absolute_error: 0.0214 - val_loss: 4.1993e-04 - val_mean_absolute_error: 0.0163\n",
      "Epoch 52/100\n",
      "60/60 [==============================] - 5s 78ms/step - loss: 7.3646e-04 - mean_absolute_error: 0.0204 - val_loss: 3.4986e-04 - val_mean_absolute_error: 0.0138\n",
      "Epoch 53/100\n",
      "60/60 [==============================] - 5s 90ms/step - loss: 8.0053e-04 - mean_absolute_error: 0.0208 - val_loss: 2.5448e-04 - val_mean_absolute_error: 0.0106\n",
      "Epoch 54/100\n",
      "60/60 [==============================] - 5s 79ms/step - loss: 6.9279e-04 - mean_absolute_error: 0.0198 - val_loss: 2.8669e-04 - val_mean_absolute_error: 0.0122\n",
      "Epoch 55/100\n",
      "60/60 [==============================] - 5s 88ms/step - loss: 7.6406e-04 - mean_absolute_error: 0.0201 - val_loss: 2.8864e-04 - val_mean_absolute_error: 0.0112\n",
      "Epoch 56/100\n",
      "60/60 [==============================] - 5s 84ms/step - loss: 7.9918e-04 - mean_absolute_error: 0.0206 - val_loss: 3.0872e-04 - val_mean_absolute_error: 0.0124\n",
      "Epoch 57/100\n",
      "60/60 [==============================] - 5s 91ms/step - loss: 6.9738e-04 - mean_absolute_error: 0.0193 - val_loss: 2.7021e-04 - val_mean_absolute_error: 0.0119\n",
      "Epoch 58/100\n",
      "60/60 [==============================] - 5s 86ms/step - loss: 8.7379e-04 - mean_absolute_error: 0.0223 - val_loss: 3.2113e-04 - val_mean_absolute_error: 0.0123\n",
      "Epoch 59/100\n",
      "60/60 [==============================] - 6s 102ms/step - loss: 7.6649e-04 - mean_absolute_error: 0.0202 - val_loss: 2.7608e-04 - val_mean_absolute_error: 0.0117\n",
      "Epoch 60/100\n",
      "60/60 [==============================] - 6s 94ms/step - loss: 8.0419e-04 - mean_absolute_error: 0.0208 - val_loss: 4.4091e-04 - val_mean_absolute_error: 0.0155\n",
      "Epoch 61/100\n",
      "60/60 [==============================] - 6s 93ms/step - loss: 7.9404e-04 - mean_absolute_error: 0.0209 - val_loss: 2.6113e-04 - val_mean_absolute_error: 0.0111\n",
      "Epoch 62/100\n",
      "60/60 [==============================] - 5s 86ms/step - loss: 7.8099e-04 - mean_absolute_error: 0.0215 - val_loss: 3.1377e-04 - val_mean_absolute_error: 0.0133\n",
      "Epoch 63/100\n",
      "60/60 [==============================] - 5s 86ms/step - loss: 7.1687e-04 - mean_absolute_error: 0.0195 - val_loss: 2.7354e-04 - val_mean_absolute_error: 0.0121\n",
      "Epoch 64/100\n",
      "60/60 [==============================] - 5s 86ms/step - loss: 7.0354e-04 - mean_absolute_error: 0.0194 - val_loss: 2.8333e-04 - val_mean_absolute_error: 0.0127\n",
      "Epoch 65/100\n",
      "60/60 [==============================] - 5s 82ms/step - loss: 6.8267e-04 - mean_absolute_error: 0.0193 - val_loss: 2.9259e-04 - val_mean_absolute_error: 0.0129\n",
      "Epoch 66/100\n",
      "60/60 [==============================] - 5s 84ms/step - loss: 7.2212e-04 - mean_absolute_error: 0.0200 - val_loss: 6.5253e-04 - val_mean_absolute_error: 0.0219\n",
      "Epoch 67/100\n",
      "60/60 [==============================] - 5s 83ms/step - loss: 7.7681e-04 - mean_absolute_error: 0.0212 - val_loss: 2.1386e-04 - val_mean_absolute_error: 0.0099\n",
      "Epoch 68/100\n",
      "60/60 [==============================] - 5s 85ms/step - loss: 7.5142e-04 - mean_absolute_error: 0.0202 - val_loss: 2.1355e-04 - val_mean_absolute_error: 0.0100\n",
      "Epoch 69/100\n",
      "60/60 [==============================] - 5s 80ms/step - loss: 7.7727e-04 - mean_absolute_error: 0.0203 - val_loss: 2.0362e-04 - val_mean_absolute_error: 0.0095\n",
      "Epoch 70/100\n",
      "60/60 [==============================] - 5s 83ms/step - loss: 6.7705e-04 - mean_absolute_error: 0.0196 - val_loss: 2.4651e-04 - val_mean_absolute_error: 0.0114\n",
      "Epoch 71/100\n",
      "60/60 [==============================] - 5s 84ms/step - loss: 7.8286e-04 - mean_absolute_error: 0.0209 - val_loss: 2.8496e-04 - val_mean_absolute_error: 0.0130\n",
      "Epoch 72/100\n",
      "60/60 [==============================] - 5s 88ms/step - loss: 7.2594e-04 - mean_absolute_error: 0.0197 - val_loss: 2.1803e-04 - val_mean_absolute_error: 0.0096\n",
      "Epoch 73/100\n",
      "60/60 [==============================] - 5s 90ms/step - loss: 7.1012e-04 - mean_absolute_error: 0.0194 - val_loss: 2.5101e-04 - val_mean_absolute_error: 0.0108\n",
      "Epoch 74/100\n",
      "60/60 [==============================] - 5s 85ms/step - loss: 6.7397e-04 - mean_absolute_error: 0.0192 - val_loss: 3.1518e-04 - val_mean_absolute_error: 0.0130\n",
      "Epoch 75/100\n",
      "60/60 [==============================] - 5s 80ms/step - loss: 7.3685e-04 - mean_absolute_error: 0.0201 - val_loss: 2.1264e-04 - val_mean_absolute_error: 0.0096\n",
      "Epoch 76/100\n",
      "60/60 [==============================] - 5s 79ms/step - loss: 6.6514e-04 - mean_absolute_error: 0.0191 - val_loss: 1.9669e-04 - val_mean_absolute_error: 0.0096\n",
      "Epoch 77/100\n",
      "60/60 [==============================] - 5s 83ms/step - loss: 6.4902e-04 - mean_absolute_error: 0.0186 - val_loss: 1.9151e-04 - val_mean_absolute_error: 0.0093\n",
      "Epoch 78/100\n",
      "60/60 [==============================] - 5s 91ms/step - loss: 7.1094e-04 - mean_absolute_error: 0.0198 - val_loss: 3.5787e-04 - val_mean_absolute_error: 0.0134\n",
      "Epoch 79/100\n",
      "60/60 [==============================] - 5s 83ms/step - loss: 7.2365e-04 - mean_absolute_error: 0.0197 - val_loss: 2.2625e-04 - val_mean_absolute_error: 0.0110\n",
      "Epoch 80/100\n",
      "60/60 [==============================] - 5s 81ms/step - loss: 6.7440e-04 - mean_absolute_error: 0.0193 - val_loss: 2.6154e-04 - val_mean_absolute_error: 0.0119\n",
      "Epoch 81/100\n",
      "60/60 [==============================] - 5s 82ms/step - loss: 7.8152e-04 - mean_absolute_error: 0.0205 - val_loss: 6.1383e-04 - val_mean_absolute_error: 0.0195\n",
      "Epoch 82/100\n",
      "60/60 [==============================] - 5s 87ms/step - loss: 8.2235e-04 - mean_absolute_error: 0.0220 - val_loss: 1.8983e-04 - val_mean_absolute_error: 0.0092\n",
      "Epoch 83/100\n",
      "60/60 [==============================] - 5s 79ms/step - loss: 6.9033e-04 - mean_absolute_error: 0.0191 - val_loss: 2.5931e-04 - val_mean_absolute_error: 0.0124\n",
      "Epoch 84/100\n",
      "60/60 [==============================] - 5s 80ms/step - loss: 5.9762e-04 - mean_absolute_error: 0.0183 - val_loss: 3.4881e-04 - val_mean_absolute_error: 0.0151\n",
      "Epoch 85/100\n",
      "60/60 [==============================] - 5s 81ms/step - loss: 6.1374e-04 - mean_absolute_error: 0.0183 - val_loss: 1.7605e-04 - val_mean_absolute_error: 0.0087\n",
      "Epoch 86/100\n",
      "60/60 [==============================] - 5s 86ms/step - loss: 6.2762e-04 - mean_absolute_error: 0.0186 - val_loss: 2.6285e-04 - val_mean_absolute_error: 0.0120\n",
      "Epoch 87/100\n",
      "60/60 [==============================] - 5s 88ms/step - loss: 6.5940e-04 - mean_absolute_error: 0.0190 - val_loss: 1.7919e-04 - val_mean_absolute_error: 0.0090\n",
      "Epoch 88/100\n",
      "60/60 [==============================] - 5s 79ms/step - loss: 6.1927e-04 - mean_absolute_error: 0.0184 - val_loss: 1.9719e-04 - val_mean_absolute_error: 0.0097\n",
      "Epoch 89/100\n",
      "60/60 [==============================] - 5s 84ms/step - loss: 7.7950e-04 - mean_absolute_error: 0.0208 - val_loss: 1.7142e-04 - val_mean_absolute_error: 0.0087\n",
      "Epoch 90/100\n",
      "60/60 [==============================] - 5s 84ms/step - loss: 6.1362e-04 - mean_absolute_error: 0.0185 - val_loss: 2.5245e-04 - val_mean_absolute_error: 0.0118\n",
      "Epoch 91/100\n",
      "60/60 [==============================] - 5s 81ms/step - loss: 5.4313e-04 - mean_absolute_error: 0.0174 - val_loss: 1.7726e-04 - val_mean_absolute_error: 0.0091\n",
      "Epoch 92/100\n",
      "60/60 [==============================] - 5s 86ms/step - loss: 6.7000e-04 - mean_absolute_error: 0.0192 - val_loss: 2.4246e-04 - val_mean_absolute_error: 0.0114\n",
      "Epoch 93/100\n",
      "60/60 [==============================] - 5s 83ms/step - loss: 6.9534e-04 - mean_absolute_error: 0.0195 - val_loss: 2.0847e-04 - val_mean_absolute_error: 0.0105\n",
      "Epoch 94/100\n",
      "60/60 [==============================] - 5s 86ms/step - loss: 7.6865e-04 - mean_absolute_error: 0.0213 - val_loss: 3.9545e-04 - val_mean_absolute_error: 0.0162\n",
      "Restoring model weights from the end of the best epoch.\n",
      "Epoch 00094: early stopping\n"
     ]
    }
   ],
   "metadata": {}
  },
  {
   "cell_type": "code",
   "execution_count": 13,
   "source": [
    "# Plot training history\r\n",
    "history_df = pd.DataFrame(history.history)\r\n",
    "history_df.loc[:, ['loss', 'val_loss']].plot()\r\n",
    "history_df.loc[:, ['mean_absolute_error', 'val_mean_absolute_error']].plot()"
   ],
   "outputs": [
    {
     "output_type": "execute_result",
     "data": {
      "text/plain": [
       "<AxesSubplot:>"
      ]
     },
     "metadata": {},
     "execution_count": 13
    },
    {
     "output_type": "display_data",
     "data": {
      "text/plain": [
       "<Figure size 432x288 with 1 Axes>"
      ],
      "image/png": "[encoded data removed]"
     },
     "metadata": {
      "needs_background": "light"
     }
    },
    {
     "output_type": "display_data",
     "data": {
      "text/plain": [
       "<Figure size 432x288 with 1 Axes>"
      ],
      "image/png": "[encoded data removed]"
     },
     "metadata": {
      "needs_background": "light"
     }
    }
   ],
   "metadata": {}
  },
  {
   "cell_type": "code",
   "execution_count": 13,
   "source": [
    "# model with last LSTM layer return_sequence=True\r\n",
    "# Plot training history\r\n",
    "history_df = pd.DataFrame(history.history)\r\n",
    "history_df.loc[:, ['loss', 'val_loss']].plot()\r\n",
    "history_df.loc[:, ['mean_absolute_error', 'val_mean_absolute_error']].plot()"
   ],
   "outputs": [
    {
     "output_type": "execute_result",
     "data": {
      "text/plain": [
       "<AxesSubplot:>"
      ]
     },
     "metadata": {},
     "execution_count": 13
    },
    {
     "output_type": "display_data",
     "data": {
      "text/plain": [
       "<Figure size 432x288 with 1 Axes>"
      ],
      "image/png": "[encoded data removed]"
     },
     "metadata": {
      "needs_background": "light"
     }
    },
    {
     "output_type": "display_data",
     "data": {
      "text/plain": [
       "<Figure size 432x288 with 1 Axes>"
      ],
      "image/png": "[encoded data removed]"
     },
     "metadata": {
      "needs_background": "light"
     }
    }
   ],
   "metadata": {}
  },
  {
   "cell_type": "code",
   "execution_count": 14,
   "source": [
    "# Making predictions on unused validation data\r\n",
    "actual_prices = validation_data['Close'].values\r\n",
    "\r\n",
    "total_dataset = pd.concat((training_data['Close'], validation_data['Close']), axis=0)\r\n",
    "total_dataset.head()"
   ],
   "outputs": [
    {
     "output_type": "execute_result",
     "data": {
      "text/plain": [
       "Date\n",
       "2012-05-18    38.230000\n",
       "2012-05-21    34.029999\n",
       "2012-05-22    31.000000\n",
       "2012-05-23    32.000000\n",
       "2012-05-24    33.029999\n",
       "Name: Close, dtype: float64"
      ]
     },
     "metadata": {},
     "execution_count": 14
    }
   ],
   "metadata": {}
  },
  {
   "cell_type": "code",
   "execution_count": 18,
   "source": [
    "model_inputs = total_dataset[len(total_dataset) - len(validation_data) - prediction_days:].values\r\n",
    "model_inputs = model_inputs.reshape(-1, 1)\r\n",
    "model_inputs = scaler.transform(model_inputs)\r\n",
    "\r\n",
    "x_validation = []\r\n",
    "\r\n",
    "for x in range(prediction_days, len(model_inputs)):\r\n",
    "    x_validation.append(model_inputs[x-prediction_days:x])\r\n",
    "\r\n",
    "x_validation = np.array(x_validation)"
   ],
   "outputs": [
    {
     "output_type": "execute_result",
     "data": {
      "text/plain": [
       "(252, 60, 1)"
      ]
     },
     "metadata": {},
     "execution_count": 18
    }
   ],
   "metadata": {}
  }
 ],
 "metadata": {
  "orig_nbformat": 4,
  "language_info": {
   "name": "python",
   "version": "3.6.8",
   "mimetype": "text/x-python",
   "codemirror_mode": {
    "name": "ipython",
    "version": 3
   },
   "pygments_lexer": "ipython3",
   "nbconvert_exporter": "python",
   "file_extension": ".py"
  },
  "kernelspec": {
   "name": "python3",
   "display_name": "Python 3.6.8 64-bit"
  },
  "interpreter": {
   "hash": "79b34c132431629d3c5274ec3b6bb03b828c385fb18b030c8223d0c222d2b2a1"
  }
 },
 "nbformat": 4,
 "nbformat_minor": 2
}